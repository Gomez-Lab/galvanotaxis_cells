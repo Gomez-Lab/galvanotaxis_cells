{
 "cells": [
  {
   "cell_type": "code",
   "execution_count": null,
   "metadata": {},
   "outputs": [],
   "source": [
    "import pandas as pd"
   ]
  },
  {
   "cell_type": "code",
   "execution_count": null,
   "metadata": {},
   "outputs": [],
   "source": [
    "df = pd.read_csv('data/cncc.csv')\n",
    "\n",
    "df['volt'] = df['ef'] / 1000\n",
    "\n",
    "df2 = df.loc[df['set']==2]\n",
    "df = df.loc[df['set']==1]\n",
    "df.head()"
   ]
  },
  {
   "cell_type": "code",
   "execution_count": null,
   "metadata": {},
   "outputs": [],
   "source": [
    "df = pd.read_csv('data/cncc.csv')\n",
    "df['volt'] = df['ef'] / 1000\n",
    "\n",
    "for s in [1,2]:\n",
    "    for ef in [0,15,30,50,75,100,200]:\n",
    "        for track in range(1,51):\n",
    "            cell = df.loc[(df['ef']==ef) & (df['track']==track) & (df['set']==s)]\n",
    "            for sl in range(2,38):\n",
    "                print('set: {}, ef: {}, track: {}, slice: {}'.format(s,ef,track,sl))\n",
    "                \n",
    "                #naive predictor, predict previous directedness\n",
    "                prev = df.loc[(df['ef']==ef) & (df['track']==track) & (df['set']==s) & (df['slice']==sl-1), 'cum_dir'].values[0]\n",
    "                df.loc[(df['ef']==ef) & (df['track']==track) & (df['set']==s) & (df['slice']==sl), 'pred_naive'] = prev\n",
    "                \n",
    "                #linear predictor, predict linear prediction from last 2 datapoints\n",
    "                if sl > 2:\n",
    "                    next_prev = df.loc[(df['ef']==ef) & (df['track']==track) & (df['set']==s) & (df['slice']==sl-2), 'cum_dir'].values[0]\n",
    "                    rise =  prev - next_prev\n",
    "                    df.loc[(df['ef']==ef) & (df['track']==track) & (df['set']==s) & (df['slice']==sl), 'pred_lin'] = prev + rise\n",
    "                    \n",
    "df['naive_error'] = df['pred_naive'] - df['cum_dir']\n",
    "df['lin_error'] = df['pred_lin'] - df['cum_dir']\n",
    "\n",
    "                    \n",
    "df=df.drop('Unnamed: 0', axis=1)\n",
    "df.to_csv('data/cncc_naive.csv', index=False)\n",
    "df.head(40)"
   ]
  }
 ],
 "metadata": {
  "kernelspec": {
   "display_name": "Python 3",
   "language": "python",
   "name": "python3"
  },
  "language_info": {
   "codemirror_mode": {
    "name": "ipython",
    "version": 3
   },
   "file_extension": ".py",
   "mimetype": "text/x-python",
   "name": "python",
   "nbconvert_exporter": "python",
   "pygments_lexer": "ipython3",
   "version": "3.7.1"
  }
 },
 "nbformat": 4,
 "nbformat_minor": 4
}
